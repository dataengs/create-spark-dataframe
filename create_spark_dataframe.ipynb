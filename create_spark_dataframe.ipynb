{
  "nbformat": 4,
  "nbformat_minor": 0,
  "metadata": {
    "colab": {
      "name": "create-spark-dataframe.ipynb",
      "provenance": [],
      "authorship_tag": "ABX9TyNKyCLY1y3bcQApeqzYt4or",
      "include_colab_link": true
    },
    "kernelspec": {
      "name": "python3",
      "display_name": "Python 3"
    },
    "language_info": {
      "name": "python"
    }
  },
  "cells": [
    {
      "cell_type": "markdown",
      "metadata": {
        "id": "view-in-github",
        "colab_type": "text"
      },
      "source": [
        "<a href=\"https://colab.research.google.com/github/dataengs/create-spark-dataframe/blob/main/create_spark_dataframe.ipynb\" target=\"_parent\"><img src=\"https://colab.research.google.com/assets/colab-badge.svg\" alt=\"Open In Colab\"/></a>"
      ]
    },
    {
      "cell_type": "code",
      "metadata": {
        "colab": {
          "base_uri": "https://localhost:8080/"
        },
        "id": "eVvx41W4w5yl",
        "outputId": "896f21f6-355f-48a0-d1ba-923b20629e51"
      },
      "source": [
        "#importa bibliotecas\n",
        "from pyspark.sql import SparkSession\n",
        "from pyspark.sql.types import StructType, StructField, StringType, IntegerType, ArrayType\n",
        "\n",
        "#cria sessao spark\n",
        "spark = SparkSession.builder.appName('CreateMySparkDataframe').getOrCreate()\n",
        "\n",
        "#cria uma lista de vendas\n",
        "dataset = [(\"Jose\", [\"Camisa\"] ,10, 202104),\n",
        "           (\"Marcos\", [\"Camisa\",\"Bermuda\",\"Jaqueta\"], 25, 202104),\n",
        "           (\"Jose\", [\"Sapato\", \"Bermuda\"], 17, 202104) \n",
        "          ]\n",
        "\n",
        "#cria um schema manual para criar o dataframe\n",
        "schema = StructType([ \\\n",
        "            StructField(\"nomeVendedor\", StringType(), True), \\\n",
        "            StructField(\"produto\", ArrayType(StringType()), True), \\\n",
        "            StructField(\"qtdVendas\", IntegerType(), True), \\\n",
        "            StructField(\"mesAnoVenda\", IntegerType(), True)\n",
        "        ])\n",
        "\n",
        "#cria um spark dataframe \n",
        "df = spark.createDataFrame(data=dataset,schema=schema)\n",
        "#exibe schema\n",
        "df.printSchema()\n",
        "#exibe os dados de forma vertical\n",
        "df.show(truncate=False, vertical=True)"
      ],
      "execution_count": 9,
      "outputs": [
        {
          "output_type": "stream",
          "name": "stdout",
          "text": [
            "root\n",
            " |-- nomeVendedor: string (nullable = true)\n",
            " |-- produto: array (nullable = true)\n",
            " |    |-- element: string (containsNull = true)\n",
            " |-- qtdVendas: integer (nullable = true)\n",
            " |-- mesAnoVenda: integer (nullable = true)\n",
            "\n",
            "-RECORD 0----------------------------------\n",
            " nomeVendedor | Jose                       \n",
            " produto      | [Camisa]                   \n",
            " qtdVendas    | 10                         \n",
            " mesAnoVenda  | 202104                     \n",
            "-RECORD 1----------------------------------\n",
            " nomeVendedor | Marcos                     \n",
            " produto      | [Camisa, Bermuda, Jaqueta] \n",
            " qtdVendas    | 25                         \n",
            " mesAnoVenda  | 202104                     \n",
            "-RECORD 2----------------------------------\n",
            " nomeVendedor | Jose                       \n",
            " produto      | [Sapato, Bermuda]          \n",
            " qtdVendas    | 17                         \n",
            " mesAnoVenda  | 202104                     \n",
            "\n"
          ]
        }
      ]
    }
  ]
}